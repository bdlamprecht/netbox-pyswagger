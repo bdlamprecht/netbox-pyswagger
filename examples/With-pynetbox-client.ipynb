{
 "cells": [
  {
   "cell_type": "markdown",
   "metadata": {},
   "source": [
    "# Using both netbox-pyswagger and pynetbox\n",
    "\n",
    "This tutorial illustrates how you can use both the `netbox-pyswagger` client when you have, or want to have, a `pynetbox` client as well.  The `pynetbox` client is very powerful as a standalone and offers many excellent features and capabilities.  The `netbox-pyswagger` client adds the \"make it like a CLI\" experience.  Let's get started, using\n",
    "a locally hosted Netbox:"
   ]
  },
  {
   "cell_type": "code",
   "execution_count": 11,
   "metadata": {},
   "outputs": [],
   "source": [
    "server_url = 'http://localhost:32768'\n",
    "token = '0123456789abcdef0123456789abcdef01234567'"
   ]
  },
  {
   "cell_type": "markdown",
   "metadata": {},
   "source": [
    "Now let's create the netbox-pyswagger client.  There is a classmethod specifically designed to bolt into the pynetbox client.  This example simulatenously creates the pynetbox client and passes it directly to create the netbox-pyswagger client."
   ]
  },
  {
   "cell_type": "code",
   "execution_count": 12,
   "metadata": {},
   "outputs": [],
   "source": [
    "import pynetbox\n",
    "from netbox_pyswagger.client import Client\n",
    "\n",
    "netbox = Client.from_pynetbox(pynetbox.api(server_url, token=token))"
   ]
  },
  {
   "cell_type": "markdown",
   "metadata": {},
   "source": [
    "The netbox-pyswagger client retains the instance of the pynetbox client in an attribute called `remote`.  For example:"
   ]
  },
  {
   "cell_type": "code",
   "execution_count": 13,
   "metadata": {},
   "outputs": [
    {
     "data": {
      "text/plain": [
       "<pynetbox.api.Api at 0x1063a5210>"
      ]
     },
     "execution_count": 13,
     "metadata": {},
     "output_type": "execute_result"
    }
   ],
   "source": [
    "netbox.remote"
   ]
  },
  {
   "cell_type": "markdown",
   "metadata": {},
   "source": [
    "So you can then use this attribute to perform any pynetbox API call.  Let's use it to create a VLAN:"
   ]
  },
  {
   "cell_type": "code",
   "execution_count": 14,
   "metadata": {},
   "outputs": [],
   "source": [
    "resp = netbox.remote.ipam.vlans.create(name='Green', vid=1001)"
   ]
  },
  {
   "cell_type": "markdown",
   "metadata": {},
   "source": [
    "And we can introspect the `resp` value:"
   ]
  },
  {
   "cell_type": "code",
   "execution_count": 15,
   "metadata": {},
   "outputs": [
    {
     "data": {
      "text/plain": [
       "{u'description': u'',\n",
       " u'group': None,\n",
       " u'id': 9,\n",
       " u'name': u'Green',\n",
       " u'role': None,\n",
       " u'site': None,\n",
       " u'status': 1,\n",
       " u'tenant': None,\n",
       " u'vid': 1001}"
      ]
     },
     "execution_count": 15,
     "metadata": {},
     "output_type": "execute_result"
    }
   ],
   "source": [
    "resp"
   ]
  },
  {
   "cell_type": "markdown",
   "metadata": {},
   "source": [
    "# Next Steps\n",
    "\n",
    "Please review the [halutz tutorials](https://github.com/jeremyschulman/halutz/tree/master/docs) to learn how to best utilize the netbox-pyswagger client."
   ]
  }
 ],
 "metadata": {
  "kernelspec": {
   "display_name": "Python 2",
   "language": "python",
   "name": "python2"
  },
  "language_info": {
   "codemirror_mode": {
    "name": "ipython",
    "version": 2
   },
   "file_extension": ".py",
   "mimetype": "text/x-python",
   "name": "python",
   "nbconvert_exporter": "python",
   "pygments_lexer": "ipython2",
   "version": "2.7.10"
  },
  "toc": {
   "nav_menu": {},
   "number_sections": true,
   "sideBar": true,
   "skip_h1_title": false,
   "toc_cell": false,
   "toc_position": {},
   "toc_section_display": "block",
   "toc_window_display": false
  }
 },
 "nbformat": 4,
 "nbformat_minor": 2
}
